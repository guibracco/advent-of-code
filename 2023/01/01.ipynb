{
 "cells": [
  {
   "cell_type": "markdown",
   "metadata": {},
   "source": [
    "--- Day 1: Trebuchet?! ---\n",
    "\n",
    "Something is wrong with global snow production, and you've been selected to take a look. The Elves have even given you a map; on it, they've used stars to mark the top fifty locations that are likely to be having problems.\n",
    "\n",
    "You've been doing this long enough to know that to restore snow operations, you need to check all fifty stars by December 25th.\n",
    "\n",
    "Collect stars by solving puzzles. Two puzzles will be made available on each day in the Advent calendar; the second puzzle is unlocked when you complete the first. Each puzzle grants one star. Good luck!\n",
    "\n",
    "You try to ask why they can't just use a weather machine (\"not powerful enough\") and where they're even sending you (\"the sky\") and why your map looks mostly blank (\"you sure ask a lot of questions\") and hang on did you just say the sky (\"of course, where do you think snow comes from\") when you realize that the Elves are already loading you into a trebuchet (\"please hold still, we need to strap you in\").\n",
    "\n",
    "As they're making the final adjustments, they discover that their calibration document (your puzzle input) has been amended by a very young Elf who was apparently just excited to show off her art skills. Consequently, the Elves are having trouble reading the values on the document.\n",
    "\n",
    "The newly-improved calibration document consists of lines of text; each line originally contained a specific calibration value that the Elves now need to recover. On each line, the calibration value can be found by combining the first digit and the last digit (in that order) to form a single two-digit number.\n",
    "\n",
    "For example:\n",
    "\n",
    "    1abc2\n",
    "    pqr3stu8vwx\n",
    "    a1b2c3d4e5f\n",
    "    treb7uchet\n",
    "\n",
    "In this example, the calibration values of these four lines are 12, 38, 15, and 77. Adding these together produces 142.\n",
    "\n",
    "Consider your entire calibration document. What is the sum of all of the calibration values?\n",
    "\n",
    "Your puzzle answer was 55090."
   ]
  },
  {
   "cell_type": "code",
   "execution_count": 1,
   "metadata": {},
   "outputs": [
    {
     "name": "stdout",
     "output_type": "stream",
     "text": [
      "55090\n"
     ]
    }
   ],
   "source": [
    "total_sum = 0\n",
    "\n",
    "with open('01-input.txt', 'r') as file:\n",
    "    for line in file:\n",
    "        line = line.strip()\n",
    "        left_digit = right_digit = None\n",
    "\n",
    "        for char in line:\n",
    "            if char.isdigit():\n",
    "                left_digit = char\n",
    "                break\n",
    "\n",
    "        for char in reversed(line):\n",
    "            if char.isdigit():\n",
    "                right_digit = char\n",
    "                break\n",
    "\n",
    "        if left_digit is not None and right_digit is not None:\n",
    "            total_sum += int(left_digit + right_digit)\n",
    "\n",
    "print(total_sum)"
   ]
  },
  {
   "cell_type": "markdown",
   "metadata": {},
   "source": [
    "--- Part Two ---\n",
    "\n",
    "Your calculation isn't quite right. It looks like some of the digits are actually spelled out with letters: one, two, three, four, five, six, seven, eight, and nine also count as valid \"digits\".\n",
    "\n",
    "Equipped with this new information, you now need to find the real first and last digit on each line. For example:\n",
    "\n",
    "    two1nine\n",
    "    eightwothree\n",
    "    abcone2threexyz\n",
    "    xtwone3four\n",
    "    4nineeightseven2\n",
    "    zoneight234\n",
    "    7pqrstsixteen\n",
    "\n",
    "In this example, the calibration values are 29, 83, 13, 24, 42, 14, and 76. Adding these together produces 281.\n",
    "\n",
    "What is the sum of all of the calibration values?\n",
    "\n",
    "Your puzzle answer was 54845."
   ]
  },
  {
   "cell_type": "code",
   "execution_count": 3,
   "metadata": {},
   "outputs": [
    {
     "name": "stdout",
     "output_type": "stream",
     "text": [
      "54845\n"
     ]
    }
   ],
   "source": [
    "import re\n",
    "values = []\n",
    "with open(\"01-input.txt\") as file:\n",
    "    for line in file:\n",
    "        values.append(line.rstrip())\n",
    "sum = 0\n",
    "replacements_dictionary = {'one' : 'on1e', 'two' : 'tw2o', 'three' : 'thr3e','four': 'fo4ur', 'five':'fi5ve','six': 'si6x','seven': 'sev7en','eight' : \n",
    "'ei8ght','nine':'ni9ne'}\n",
    "for line in values:\n",
    "    for key,value in replacements_dictionary.items():\n",
    "        line = line.replace(key, value)\n",
    "    # print(line)\n",
    "    digits_only = re.sub('\\D','',line)\n",
    "    sum += int(digits_only[0] + digits_only[-1])\n",
    "print(sum)"
   ]
  }
 ],
 "metadata": {
  "kernelspec": {
   "display_name": "Python 3",
   "language": "python",
   "name": "python3"
  },
  "language_info": {
   "codemirror_mode": {
    "name": "ipython",
    "version": 3
   },
   "file_extension": ".py",
   "mimetype": "text/x-python",
   "name": "python",
   "nbconvert_exporter": "python",
   "pygments_lexer": "ipython3",
   "version": "3.11.6"
  }
 },
 "nbformat": 4,
 "nbformat_minor": 2
}
