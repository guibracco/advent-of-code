{
 "cells": [
  {
   "cell_type": "code",
   "execution_count": 1,
   "metadata": {},
   "outputs": [
    {
     "name": "stdout",
     "output_type": "stream",
     "text": [
      "1641934234\n"
     ]
    }
   ],
   "source": [
    "total = 0\n",
    "for line in open('09-input.txt'):\n",
    "    report = [[int(x) for x in line.split()]]\n",
    "    while len([n for n in report[-1] if n == 0]) < len(report[-1]):\n",
    "        report.append([report[-1][i + 1] - report[-1][i] for i in range(len(report[-1]) - 1)])\n",
    "    for i in range(len(report) - 2, -1, -1):\n",
    "        report[i].append(report[i][-1] + report[i + 1][-1])\n",
    "    total += report[0][-1]\n",
    "print(total)"
   ]
  },
  {
   "cell_type": "code",
   "execution_count": 2,
   "metadata": {},
   "outputs": [
    {
     "name": "stdout",
     "output_type": "stream",
     "text": [
      "975\n"
     ]
    }
   ],
   "source": [
    "total = 0\n",
    "for line in open('09-input.txt'):\n",
    "    report = [[int(x) for x in line.split()]]\n",
    "    while len([n for n in report[-1] if n == 0]) < len(report[-1]):\n",
    "        report.append([report[-1][i + 1] - report[-1][i] for i in range(len(report[-1]) - 1)])\n",
    "    for i in range(len(report) - 2, -1, -1):\n",
    "        report[i] = [report[i][0] - report[i + 1][0]] + report[i]\n",
    "    total += report[0][0]\n",
    "print(total)"
   ]
  }
 ],
 "metadata": {
  "kernelspec": {
   "display_name": "Python 3",
   "language": "python",
   "name": "python3"
  },
  "language_info": {
   "codemirror_mode": {
    "name": "ipython",
    "version": 3
   },
   "file_extension": ".py",
   "mimetype": "text/x-python",
   "name": "python",
   "nbconvert_exporter": "python",
   "pygments_lexer": "ipython3",
   "version": "3.12.1"
  }
 },
 "nbformat": 4,
 "nbformat_minor": 2
}
