{
 "cells": [
  {
   "cell_type": "markdown",
   "metadata": {},
   "source": [
    "--- Day 3: Gear Ratios ---\n",
    "\n",
    "You and the Elf eventually reach a gondola lift station; he says the gondola lift will take you up to the water source, but this is as far as he can bring you. You go inside.\n",
    "\n",
    "It doesn't take long to find the gondolas, but there seems to be a problem: they're not moving.\n",
    "\n",
    "\"Aaah!\"\n",
    "\n",
    "You turn around to see a slightly-greasy Elf with a wrench and a look of surprise. \"Sorry, I wasn't expecting anyone! The gondola lift isn't working right now; it'll still be a while before I can fix it.\" You offer to help.\n",
    "\n",
    "The engineer explains that an engine part seems to be missing from the engine, but nobody can figure out which one. If you can add up all the part numbers in the engine schematic, it should be easy to work out which part is missing.\n",
    "\n",
    "The engine schematic (your puzzle input) consists of a visual representation of the engine. There are lots of numbers and symbols you don't really understand, but apparently any number adjacent to a symbol, even diagonally, is a \"part number\" and should be included in your sum. (Periods (.) do not count as a symbol.)\n",
    "\n",
    "Here is an example engine schematic:\n",
    "\n",
    "    467..114..\n",
    "    ...*......\n",
    "    ..35..633.\n",
    "    ......#...\n",
    "    617*......\n",
    "    .....+.58.\n",
    "    ..592.....\n",
    "    ......755.\n",
    "    ...$.*....\n",
    "    .664.598..\n",
    "\n",
    "In this schematic, two numbers are not part numbers because they are not adjacent to a symbol: 114 (top right) and 58 (middle right). Every other number is adjacent to a symbol and so is a part number; their sum is 4361.\n",
    "\n",
    "Of course, the actual engine schematic is much larger. What is the sum of all of the part numbers in the engine schematic?\n",
    "\n",
    "Your puzzle answer was 549908."
   ]
  },
  {
   "cell_type": "markdown",
   "metadata": {},
   "source": [
    "--- Part Two ---\n",
    "\n",
    "The engineer finds the missing part and installs it in the engine! As the engine springs to life, you jump in the closest gondola, finally ready to ascend to the water source.\n",
    "\n",
    "You don't seem to be going very fast, though. Maybe something is still wrong? Fortunately, the gondola has a phone labeled \"help\", so you pick it up and the engineer answers.\n",
    "\n",
    "Before you can explain the situation, she suggests that you look out the window. There stands the engineer, holding a phone in one hand and waving with the other. You're going so slowly that you haven't even left the station. You exit the gondola.\n",
    "\n",
    "The missing part wasn't the only issue - one of the gears in the engine is wrong. A gear is any * symbol that is adjacent to exactly two part numbers. Its gear ratio is the result of multiplying those two numbers together.\n",
    "\n",
    "This time, you need to find the gear ratio of every gear and add them all up so that the engineer can figure out which gear needs to be replaced.\n",
    "\n",
    "Consider the same engine schematic again:\n",
    "\n",
    "    467..114..\n",
    "    ...*......\n",
    "    ..35..633.\n",
    "    ......#...\n",
    "    617*......\n",
    "    .....+.58.\n",
    "    ..592.....\n",
    "    ......755.\n",
    "    ...$.*....\n",
    "    .664.598..\n",
    "\n",
    "In this schematic, there are two gears. The first is in the top left; it has part numbers 467 and 35, so its gear ratio is 16345. The second gear is in the lower right; its gear ratio is 451490. (The * adjacent to 617 is not a gear because it is only adjacent to one part number.) Adding up all of the gear ratios produces 467835.\n",
    "\n",
    "What is the sum of all of the gear ratios in your engine schematic?\n",
    "\n",
    "Your puzzle answer was 81166799."
   ]
  },
  {
   "cell_type": "code",
   "execution_count": 2,
   "metadata": {},
   "outputs": [
    {
     "name": "stdout",
     "output_type": "stream",
     "text": [
      "549908\n",
      "81166799\n"
     ]
    }
   ],
   "source": [
    "import itertools\n",
    "import math\n",
    "import re\n",
    "from collections import defaultdict\n",
    "\n",
    "with open(\"03-input.txt\") as f:\n",
    "    ls = f.read().strip().split(\"\\n\")\n",
    "\n",
    "box = list(itertools.product((-1, 0, 1), (-1, 0, 1)))\n",
    "symbols = {\n",
    "    (i, j)\n",
    "    for i, l in enumerate(ls)\n",
    "    for j, x in enumerate(l)\n",
    "    if x != \".\" and not x.isdigit()\n",
    "}\n",
    "\n",
    "part_sum = 0\n",
    "parts_by_symbol = defaultdict(list)\n",
    "\n",
    "for i, l in enumerate(ls):\n",
    "    for match in re.finditer(r\"\\d+\", l):\n",
    "        n = int(match.group(0))\n",
    "        boundary = {\n",
    "            (i + di, j + dj)\n",
    "            for di, dj in box\n",
    "            for j in range(match.start(), match.end())\n",
    "        }\n",
    "        if symbols & boundary:\n",
    "            part_sum += n\n",
    "        for symbol in symbols & boundary:\n",
    "            parts_by_symbol[symbol].append(n)\n",
    "\n",
    "# Part 1\n",
    "print(part_sum)\n",
    "\n",
    "# Part 2\n",
    "print(sum(math.prod(v) for v in parts_by_symbol.values() if len(v) == 2))"
   ]
  }
 ],
 "metadata": {
  "kernelspec": {
   "display_name": "Python 3",
   "language": "python",
   "name": "python3"
  },
  "language_info": {
   "codemirror_mode": {
    "name": "ipython",
    "version": 3
   },
   "file_extension": ".py",
   "mimetype": "text/x-python",
   "name": "python",
   "nbconvert_exporter": "python",
   "pygments_lexer": "ipython3",
   "version": "3.12.0"
  }
 },
 "nbformat": 4,
 "nbformat_minor": 2
}
