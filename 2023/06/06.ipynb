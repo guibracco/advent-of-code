{
 "cells": [
  {
   "cell_type": "markdown",
   "metadata": {},
   "source": []
  },
  {
   "cell_type": "code",
   "execution_count": 3,
   "metadata": {},
   "outputs": [
    {
     "name": "stdout",
     "output_type": "stream",
     "text": [
      "Part 1: 1155175\n",
      "['60808676', '601116315591300']\n",
      "Part 2: 35961505\n"
     ]
    }
   ],
   "source": [
    "#Part 1\n",
    "\n",
    "time = []\n",
    "distance = []\n",
    "with open('06-input.txt', 'r') as file:\n",
    "    currMap = time\n",
    "    for line in file:\n",
    "        line = line.replace('\\n', '').split(' ')\n",
    "        for l in line:\n",
    "            if l != '' and ':' not in l:\n",
    "                currMap.append(l)\n",
    "        currMap = distance\n",
    "\n",
    "result = 1\n",
    "for t in range(len(time)):\n",
    "    currTime = int(time[t])\n",
    "    currDistance = int(distance[t])\n",
    "    temp = 0\n",
    "    for r in range(currTime):\n",
    "        if r * (currTime-r) > currDistance:\n",
    "            temp = r\n",
    "            break\n",
    "    for r in range(currTime-1, -1, -1):\n",
    "        if r * (currTime-r) > currDistance:\n",
    "            temp = r - temp + 1\n",
    "            break\n",
    "    result *= temp\n",
    "\n",
    "print('Part 1:', result)\n",
    "\n",
    "\n",
    "\n",
    "\n",
    "#Part 2\n",
    "vals = []\n",
    "with open('06-input.txt', 'r') as file:\n",
    "    currVal = time\n",
    "    for line in file:\n",
    "        line = line.replace('\\n', '').replace(' ','').split(':')\n",
    "        vals.append(line[1])\n",
    "\n",
    "print(vals)\n",
    "currTime = int(vals[0])\n",
    "currDistance = int(vals[1])\n",
    "result = 0\n",
    "for r in range(currTime):\n",
    "    if r * (currTime-r) > currDistance:\n",
    "        result = r\n",
    "        break\n",
    "for r in range(currTime-1, -1, -1):\n",
    "    if r * (currTime-r) > currDistance:\n",
    "        result = r - result + 1\n",
    "        break\n",
    "\n",
    "print('Part 2:', result)"
   ]
  }
 ],
 "metadata": {
  "kernelspec": {
   "display_name": "Python 3",
   "language": "python",
   "name": "python3"
  },
  "language_info": {
   "codemirror_mode": {
    "name": "ipython",
    "version": 3
   },
   "file_extension": ".py",
   "mimetype": "text/x-python",
   "name": "python",
   "nbconvert_exporter": "python",
   "pygments_lexer": "ipython3",
   "version": "3.12.0"
  }
 },
 "nbformat": 4,
 "nbformat_minor": 2
}
