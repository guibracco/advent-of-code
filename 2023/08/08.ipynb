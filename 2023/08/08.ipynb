{
 "cells": [
  {
   "cell_type": "code",
   "execution_count": 1,
   "metadata": {},
   "outputs": [
    {
     "name": "stdout",
     "output_type": "stream",
     "text": [
      "19099\n"
     ]
    }
   ],
   "source": [
    "import re\n",
    "\n",
    "input_list = open(\"08-input.txt\").read().splitlines()\n",
    "node_list = {}\n",
    "direction = list(input_list[0])\n",
    "curr = \"AAA\"\n",
    "steps = 0\n",
    "\n",
    "for i in input_list[2:]:\n",
    "    a = re.split(r\"[\\W]+\", i)\n",
    "    node_list[a[0]] = (a[1], a[2])\n",
    "\n",
    "while (True):\n",
    "    for u in direction:\n",
    "        steps += 1\n",
    "        node_tuple = node_list.get(curr)\n",
    "        if u == \"L\":\n",
    "            curr = node_tuple[0]\n",
    "        else:\n",
    "            curr = node_tuple[1]\n",
    "\n",
    "        if curr == \"ZZZ\":\n",
    "            break\n",
    "    \n",
    "    else:\n",
    "        continue\n",
    "    break\n",
    "\n",
    "print(steps)"
   ]
  },
  {
   "cell_type": "code",
   "execution_count": 2,
   "metadata": {},
   "outputs": [
    {
     "name": "stdout",
     "output_type": "stream",
     "text": [
      "17099847107071\n"
     ]
    }
   ],
   "source": [
    "import re\n",
    "import math\n",
    "\n",
    "input_list = open(\"08-input.txt\").read().splitlines()\n",
    "node_dict = {}\n",
    "direction = list(input_list[0])\n",
    "steps = 0\n",
    "ghost_list = []\n",
    "math_list = []\n",
    "loop_list = []\n",
    "max_steps = 1\n",
    "\n",
    "for i in input_list[2:]:\n",
    "    a = re.split(r\"[\\W]+\", i)\n",
    "    node_dict[a[0]] = (a[1], a[2])\n",
    "\n",
    "for x in node_dict:\n",
    "    if x[-1] == \"A\":\n",
    "        ghost_list.append(x)\n",
    "\n",
    "for i in range(len(ghost_list)*2):\n",
    "    math_list.append(\"\")\n",
    "\n",
    "for i in range(len(ghost_list)):\n",
    "    loop_list.append(\"\")\n",
    "\n",
    "while (True):\n",
    "    for u in direction:\n",
    "        steps += 1\n",
    "        index = 0\n",
    "        for p in ghost_list:\n",
    "            if p[-1] == \"Z\" and math_list[index] != \"\" and loop_list[index] == \"\":\n",
    "                loop_list[index] = steps - math_list[index+len(ghost_list)]\n",
    "            \n",
    "            if p[-1] == \"Z\" and math_list[index] == \"\":\n",
    "                math_list[index] = p\n",
    "                math_list[index+len(ghost_list)] = steps\n",
    "\n",
    "            node_tuple = node_dict.get(p)\n",
    "            if u == \"L\":\n",
    "                ghost_list[index] = node_tuple[0]\n",
    "            else:\n",
    "                ghost_list[index] = node_tuple[1]\n",
    "            \n",
    "            index += 1\n",
    "\n",
    "        if \"\" not in loop_list:\n",
    "            for c in loop_list:\n",
    "                max_steps = math.lcm(c,max_steps)\n",
    "            print(max_steps)\n",
    "            break\n",
    "\n",
    "    else:\n",
    "        continue\n",
    "    break"
   ]
  }
 ],
 "metadata": {
  "kernelspec": {
   "display_name": "Python 3",
   "language": "python",
   "name": "python3"
  },
  "language_info": {
   "codemirror_mode": {
    "name": "ipython",
    "version": 3
   },
   "file_extension": ".py",
   "mimetype": "text/x-python",
   "name": "python",
   "nbconvert_exporter": "python",
   "pygments_lexer": "ipython3",
   "version": "3.12.1"
  }
 },
 "nbformat": 4,
 "nbformat_minor": 2
}
