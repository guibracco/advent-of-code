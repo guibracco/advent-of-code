{
 "cells": [
  {
   "cell_type": "markdown",
   "metadata": {},
   "source": [
    "## Day 2\n",
    "### Puzzle 3\n"
   ]
  },
  {
   "cell_type": "code",
   "execution_count": 11,
   "metadata": {},
   "outputs": [],
   "source": [
    "# --- Day 2: Red-Nosed Reports ---\n",
    "# Fortunately, the first location The Historians want to search isn't a long walk from the Chief Historian's office.\n",
    "# \n",
    "# While the Red-Nosed Reindeer nuclear fusion/fission plant appears to contain no sign of the Chief Historian, the engineers there run up to you as soon as they see you. Apparently, they still talk about the time Rudolph was saved through molecular synthesis from a single electron.\n",
    "# \n",
    "# They're quick to add that - since you're already here - they'd really appreciate your help analyzing some unusual data from the Red-Nosed reactor. You turn to check if The Historians are waiting for you, but they seem to have already divided into groups that are currently searching every corner of the facility. You offer to help with the unusual data.\n",
    "# \n",
    "# The unusual data (your puzzle input) consists of many reports, one report per line. Each report is a list of numbers called levels that are separated by spaces. For example:\n",
    "# \n",
    "# 7 6 4 2 1\n",
    "# 1 2 7 8 9\n",
    "# 9 7 6 2 1\n",
    "# 1 3 2 4 5\n",
    "# 8 6 4 4 1\n",
    "# 1 3 6 7 9\n",
    "#\n",
    "# This example data contains six reports each containing five levels.\n",
    "# \n",
    "# The engineers are trying to figure out which reports are safe. The Red-Nosed reactor safety systems can only tolerate levels that are either gradually increasing or gradually decreasing. So, a report only counts as safe if both of the following are true:\n",
    "# \n",
    "# The levels are either all increasing or all decreasing.\n",
    "# Any two adjacent levels differ by at least one and at most three.\n",
    "# In the example above, the reports can be found safe or unsafe by checking those rules:\n",
    "# \n",
    "# 7 6 4 2 1: Safe because the levels are all decreasing by 1 or 2.\n",
    "# 1 2 7 8 9: Unsafe because 2 7 is an increase of 5.\n",
    "# 9 7 6 2 1: Unsafe because 6 2 is a decrease of 4.\n",
    "# 1 3 2 4 5: Unsafe because 1 3 is increasing but 3 2 is decreasing.\n",
    "# 8 6 4 4 1: Unsafe because 4 4 is neither an increase or a decrease.\n",
    "# 1 3 6 7 9: Safe because the levels are all increasing by 1, 2, or 3.\n",
    "#\n",
    "# So, in this example, 2 reports are safe.\n",
    "# \n",
    "# Analyze the unusual data from the engineers. How many reports are safe?\n"
   ]
  },
  {
   "cell_type": "markdown",
   "metadata": {},
   "source": [
    "### Solution"
   ]
  },
  {
   "cell_type": "code",
   "execution_count": 12,
   "metadata": {},
   "outputs": [
    {
     "name": "stdout",
     "output_type": "stream",
     "text": [
      "479 reports are safe.\n"
     ]
    }
   ],
   "source": [
    "def is_safe_sequence(sequence):\n",
    "    increasing = all(1 <= sequence[i+1] - sequence[i] <= 3 for i in range(len(sequence) - 1))\n",
    "    decreasing = all(1 <= sequence[i] - sequence[i+1] <= 3 for i in range(len(sequence) - 1))\n",
    "    return increasing or decreasing\n",
    "\n",
    "# Read the file and split it into lines\n",
    "with open('02-input.txt', 'r') as file:\n",
    "    lines = file.readlines()\n",
    "\n",
    "# Count the number of safe lines\n",
    "safe_lines_count = 0\n",
    "\n",
    "for line in lines:\n",
    "    sequence = list(map(int, line.split()))\n",
    "    if is_safe_sequence(sequence):\n",
    "        safe_lines_count += 1\n",
    "\n",
    "# Print the result\n",
    "print(f\"{safe_lines_count} reports are safe.\")\n"
   ]
  },
  {
   "cell_type": "markdown",
   "metadata": {},
   "source": [
    "### Puzzle 4\n"
   ]
  },
  {
   "cell_type": "code",
   "execution_count": 13,
   "metadata": {},
   "outputs": [],
   "source": [
    "# --- Part Two ---\n",
    "# The engineers are surprised by the low number of safe reports until they realize they forgot to tell you about the Problem Dampener.\n",
    "# \n",
    "# The Problem Dampener is a reactor-mounted module that lets the reactor safety systems tolerate a single bad level in what would otherwise be a safe report. It's like the bad level never happened!\n",
    "# \n",
    "# Now, the same rules apply as before, except if removing a single level from an unsafe report would make it safe, the report instead counts as safe.\n",
    "# \n",
    "# More of the above example's reports are now safe:\n",
    "# \n",
    "# 7 6 4 2 1: Safe without removing any level.\n",
    "# 1 2 7 8 9: Unsafe regardless of which level is removed.\n",
    "# 9 7 6 2 1: Unsafe regardless of which level is removed.\n",
    "# 1 3 2 4 5: Safe by removing the second level, 3.\n",
    "# 8 6 4 4 1: Safe by removing the third level, 4.\n",
    "# 1 3 6 7 9: Safe without removing any level.\n",
    "\n",
    "# Thanks to the Problem Dampener, 4 reports are actually safe!\n",
    "# \n",
    "# Update your analysis by handling situations where the Problem Dampener can remove a single level from unsafe reports. How many reports are now safe?\n"
   ]
  },
  {
   "cell_type": "markdown",
   "metadata": {},
   "source": [
    "### Solution\n"
   ]
  },
  {
   "cell_type": "code",
   "execution_count": 14,
   "metadata": {},
   "outputs": [
    {
     "name": "stdout",
     "output_type": "stream",
     "text": [
      "With the Problem Dampener, 531 reports are safe.\n"
     ]
    }
   ],
   "source": [
    "def is_safe_sequence(sequence):\n",
    "    increasing = all(1 <= sequence[i+1] - sequence[i] <= 3 for i in range(len(sequence) - 1))\n",
    "    decreasing = all(1 <= sequence[i] - sequence[i+1] <= 3 for i in range(len(sequence) - 1))\n",
    "    return increasing or decreasing\n",
    "\n",
    "def can_be_safe_by_removing_one_number(sequence):\n",
    "    for i in range(len(sequence)):\n",
    "        modified_sequence = sequence[:i] + sequence[i+1:]\n",
    "        if is_safe_sequence(modified_sequence):\n",
    "            return True\n",
    "    return False\n",
    "\n",
    "# Read the file and split it into lines\n",
    "with open('02-input.txt', 'r') as file:\n",
    "    lines = file.readlines()\n",
    "\n",
    "# Count the number of safe lines\n",
    "safe_lines_count = 0\n",
    "\n",
    "for line in lines:\n",
    "    sequence = list(map(int, line.split()))\n",
    "    if is_safe_sequence(sequence) or can_be_safe_by_removing_one_number(sequence):\n",
    "        safe_lines_count += 1\n",
    "\n",
    "# Print the result\n",
    "print(f\"With the Problem Dampener, {safe_lines_count} reports are safe.\")\n"
   ]
  }
 ],
 "metadata": {
  "kernelspec": {
   "display_name": "Python 3",
   "language": "python",
   "name": "python3"
  },
  "language_info": {
   "codemirror_mode": {
    "name": "ipython",
    "version": 3
   },
   "file_extension": ".py",
   "mimetype": "text/x-python",
   "name": "python",
   "nbconvert_exporter": "python",
   "pygments_lexer": "ipython3",
   "version": "3.13.0"
  }
 },
 "nbformat": 4,
 "nbformat_minor": 2
}
