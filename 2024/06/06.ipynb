{
 "cells": [
  {
   "cell_type": "code",
   "execution_count": 21,
   "metadata": {},
   "outputs": [
    {
     "name": "stdout",
     "output_type": "stream",
     "text": [
      "The guard will visit 5080 distinct positions before leaving the mapped area.\n"
     ]
    }
   ],
   "source": [
    "def parse_map(map_str):\n",
    "    # Parse the input map string into a 2D list (grid)\n",
    "    map_lines = map_str.strip().split('\\n')\n",
    "    map_grid = [list(line) for line in map_lines]\n",
    "    return map_grid\n",
    "\n",
    "def find_guard(map_grid):\n",
    "    # Define the directions the guard can face\n",
    "    directions = {'^': (-1, 0), '>': (0, 1), 'v': (1, 0), '<': (0, -1)}\n",
    "    # Find the guard's starting position and direction in the grid\n",
    "    for r, row in enumerate(map_grid):\n",
    "        for c, cell in enumerate(row):\n",
    "            if cell in directions:\n",
    "                return (r, c), directions[cell]\n",
    "    return None, None\n",
    "\n",
    "def turn_right(direction):\n",
    "    # Define the right turn for each direction\n",
    "    turns = {(-1, 0): (0, 1), (0, 1): (1, 0), (1, 0): (0, -1), (0, -1): (-1, 0)}\n",
    "    return turns[direction]\n",
    "\n",
    "def simulate_guard(map_grid):\n",
    "    # Find the guard's starting position and direction\n",
    "    start_pos, direction = find_guard(map_grid)\n",
    "    if not start_pos:\n",
    "        return 0\n",
    "    \n",
    "    visited = set()  # Set to track visited positions\n",
    "    pos = start_pos  # Current position of the guard\n",
    "    rows, cols = len(map_grid), len(map_grid[0])  # Dimensions of the grid\n",
    "    \n",
    "    while 0 <= pos[0] < rows and 0 <= pos[1] < cols:\n",
    "        visited.add(pos)  # Mark the current position as visited\n",
    "        next_pos = (pos[0] + direction[0], pos[1] + direction[1])  # Calculate the next position\n",
    "        \n",
    "        # Check if the next position is within bounds and not an obstacle\n",
    "        if 0 <= next_pos[0] < rows and 0 <= next_pos[1] < cols and map_grid[next_pos[0]][next_pos[1]] != '#':\n",
    "            pos = next_pos  # Move to the next position\n",
    "        else:\n",
    "            direction = turn_right(direction)  # Turn right if there's an obstacle\n",
    "        \n",
    "        # Check if the guard is at the border\n",
    "        if pos[0] == 0 or pos[0] == rows - 1 or pos[1] == 0 or pos[1] == cols - 1:\n",
    "            visited.add(pos)  # Ensure the last position is counted\n",
    "            break\n",
    "    \n",
    "    return len(visited)  # Return the number of distinct positions visited\n",
    "\n",
    "# Read the input from 06-input.txt\n",
    "with open('06-input.txt', 'r') as file:\n",
    "    map_str = file.read()\n",
    "\n",
    "# Parse the map and simulate the guard's movement\n",
    "map_grid = parse_map(map_str)\n",
    "distinct_positions = simulate_guard(map_grid)\n",
    "# Print the number of distinct positions visited\n",
    "print(f\"The guard will visit {distinct_positions} distinct positions before leaving the mapped area.\")"
   ]
  }
 ],
 "metadata": {
  "kernelspec": {
   "display_name": "Python 3",
   "language": "python",
   "name": "python3"
  },
  "language_info": {
   "codemirror_mode": {
    "name": "ipython",
    "version": 3
   },
   "file_extension": ".py",
   "mimetype": "text/x-python",
   "name": "python",
   "nbconvert_exporter": "python",
   "pygments_lexer": "ipython3",
   "version": "3.13.1"
  }
 },
 "nbformat": 4,
 "nbformat_minor": 2
}
