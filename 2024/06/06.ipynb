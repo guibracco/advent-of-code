{
 "cells": [
  {
   "cell_type": "code",
   "execution_count": null,
   "metadata": {},
   "outputs": [],
   "source": [
    "def parse_map(map_str):\n",
    "    map_lines = map_str.strip().split('\\n')\n",
    "    map_grid = [list(line) for line in map_lines]\n",
    "    return map_grid\n",
    "\n",
    "def find_guard(map_grid):\n",
    "    directions = {'^': (-1, 0), '>': (0, 1), 'v': (1, 0), '<': (0, -1)}\n",
    "    for r, row in enumerate(map_grid):\n",
    "        for c, cell in enumerate(row):\n",
    "            if cell in directions:\n",
    "                return (r, c), directions[cell]\n",
    "    return None, None\n",
    "\n",
    "def turn_right(direction):\n",
    "    turns = {(-1, 0): (0, 1), (0, 1): (1, 0), (1, 0): (0, -1), (0, -1): (-1, 0)}\n",
    "    return turns[direction]\n",
    "\n",
    "def simulate_guard(map_grid):\n",
    "    start_pos, direction = find_guard(map_grid)\n",
    "    if not start_pos:\n",
    "        return 0\n",
    "    \n",
    "    visited = set()\n",
    "    pos = start_pos\n",
    "    rows, cols = len(map_grid), len(map_grid[0])\n",
    "    \n",
    "    while 0 <= pos[0] < rows and 0 <= pos[1] < cols:\n",
    "        visited.add(pos)\n",
    "        next_pos = (pos[0] + direction[0], pos[1] + direction[1])\n",
    "        \n",
    "        if 0 <= next_pos[0] < rows and 0 <= next_pos[1] < cols and map_grid[next_pos[0]][next_pos[1]] != '#':\n",
    "            pos = next_pos\n",
    "        else:\n",
    "            direction = turn_right(direction)\n",
    "    \n",
    "    return len(visited)\n",
    "\n",
    "# Read the input from 06-input.txt\n",
    "with open('06-input.txt', 'r') as file:\n",
    "    map_str = file.read()\n",
    "\n",
    "map_grid = parse_map(map_str)\n",
    "distinct_positions = simulate_guard(map_grid)\n",
    "print(distinct_positions)\n"
   ]
  }
 ],
 "metadata": {
  "kernelspec": {
   "display_name": "Python 3",
   "language": "python",
   "name": "python3"
  },
  "language_info": {
   "codemirror_mode": {
    "name": "ipython",
    "version": 3
   },
   "file_extension": ".py",
   "mimetype": "text/x-python",
   "name": "python",
   "nbconvert_exporter": "python",
   "pygments_lexer": "ipython3",
   "version": "3.13.1"
  }
 },
 "nbformat": 4,
 "nbformat_minor": 2
}
