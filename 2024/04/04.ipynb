{
 "cells": [
  {
   "cell_type": "markdown",
   "metadata": {},
   "source": [
    "## Day 4\n",
    "### Puzzle 7\n"
   ]
  },
  {
   "cell_type": "code",
   "execution_count": 24,
   "metadata": {},
   "outputs": [],
   "source": [
    "# --- Day 4: Ceres Search ---\n",
    "# \"Looks like the Chief's not here. Next!\" One of The Historians pulls out a device and pushes the only button on it. After a brief flash, you recognize the interior of the Ceres monitoring station!\n",
    "# \n",
    "# As the search for the Chief continues, a small Elf who lives on the station tugs on your shirt; she'd like to know if you could help her with her word search (your puzzle input). She only has to find one word: XMAS.\n",
    "# \n",
    "# This word search allows words to be horizontal, vertical, diagonal, written backwards, or even overlapping other words. It's a little unusual, though, as you don't merely need to find one instance of XMAS - you need to find all of them. Here are a few ways XMAS might appear, where irrelevant characters have been replaced with .:\n",
    "# \n",
    "# \n",
    "# ..X...\n",
    "# .SAMX.\n",
    "# .A..A.\n",
    "# XMAS.S\n",
    "# .X....\n",
    "# \n",
    "# The actual word search will be full of letters instead. For example:\n",
    "# \n",
    "# MMMSXXMASM\n",
    "# MSAMXMSMSA\n",
    "# AMXSXMAAMM\n",
    "# MSAMASMSMX\n",
    "# XMASAMXAMM\n",
    "# XXAMMXXAMA\n",
    "# SMSMSASXSS\n",
    "# SAXAMASAAA\n",
    "# MAMMMXMMMM\n",
    "# MXMXAXMASX\n",
    "# \n",
    "# In this word search, XMAS occurs a total of 18 times; here's the same word search again, but where letters not involved in any XMAS have been replaced with .:\n",
    "# \n",
    "# ....XXMAS.\n",
    "# .SAMXMS...\n",
    "# ...S..A...\n",
    "# ..A.A.MS.X\n",
    "# XMASAMX.MM\n",
    "# X.....XA.A\n",
    "# S.S.S.S.SS\n",
    "# .A.A.A.A.A\n",
    "# ..M.M.M.MM\n",
    "# .X.X.XMASX\n",
    "# \n",
    "# Take a look at the little Elf's word search. How many times does XMAS appear?\n"
   ]
  },
  {
   "cell_type": "markdown",
   "metadata": {},
   "source": [
    "### Solution"
   ]
  },
  {
   "cell_type": "code",
   "execution_count": 29,
   "metadata": {},
   "outputs": [
    {
     "name": "stdout",
     "output_type": "stream",
     "text": [
      "XMAS appears 2427 times.\n"
     ]
    }
   ],
   "source": [
    "# Count the occurrences of the word in all directions\n",
    "def count_word(matrix, word):\n",
    "    directions = [\n",
    "        (0, 1),  # horizontal right\n",
    "        (0, -1), # horizontal left\n",
    "        (1, 0),  # vertical down\n",
    "        (-1, 0), # vertical up\n",
    "        (1, 1),  # diagonal down-right\n",
    "        (1, -1), # diagonal down-left\n",
    "        (-1, 1), # diagonal up-right\n",
    "        (-1, -1) # diagonal up-left\n",
    "    ]\n",
    "    count = 0\n",
    "    word_length = len(word)\n",
    "    for row in range(len(matrix)):\n",
    "        for col in range(len(matrix[0])):\n",
    "            for delta_row, delta_col in directions:\n",
    "                if all(0 <= row + k * delta_row < len(matrix) and 0 <= col + k * delta_col < len(matrix[0]) and\n",
    "                       matrix[row + k * delta_row][col + k * delta_col] == word[k] for k in range(word_length)):\n",
    "                    count += 1\n",
    "    return count\n",
    "\n",
    "# Read the file and split it into lines to form a matrix\n",
    "with open('04-input.txt', 'r') as file:\n",
    "    lines = file.readlines()\n",
    "\n",
    "matrix = [list(line.strip()) for line in lines]\n",
    "\n",
    "# Count the occurrences of the word \"XMAS\"\n",
    "word = \"XMAS\"\n",
    "total_count = count_word(matrix, word)\n",
    "\n",
    "# Print the result\n",
    "print(f\"XMAS appears {total_count} times.\")\n"
   ]
  },
  {
   "cell_type": "markdown",
   "metadata": {},
   "source": [
    "### Puzzle 8\n"
   ]
  },
  {
   "cell_type": "code",
   "execution_count": 26,
   "metadata": {},
   "outputs": [],
   "source": [
    "# --- Part Two ---\n",
    "# The Elf looks quizzically at you. Did you misunderstand the assignment?\n",
    "# \n",
    "# Looking for the instructions, you flip over the word search to find that this isn't actually an XMAS puzzle; it's an X-MAS puzzle in which you're supposed to find two MAS in the shape of an X. One way to achieve that is like this:\n",
    "# \n",
    "# M.S\n",
    "# .A.\n",
    "# M.S\n",
    "# \n",
    "# Irrelevant characters have again been replaced with . in the above diagram. Within the X, each MAS can be written forwards or backwards.\n",
    "# \n",
    "# Here's the same example from before, but this time all of the X-MASes have been kept instead:\n",
    "# \n",
    "# .M.S......\n",
    "# ..A..MSMS.\n",
    "# .M.S.MAA..\n",
    "# ..A.ASMSM.\n",
    "# .M.S.M....\n",
    "# ..........\n",
    "# S.S.S.S.S.\n",
    "# .A.A.A.A..\n",
    "# M.M.M.M.M.\n",
    "# ..........\n",
    "# \n",
    "# In this example, an X-MAS appears 9 times.\n",
    "# \n",
    "# Flip the word search from the instructions back over to the word search side and try again. How many times does an X-MAS appear?\n"
   ]
  },
  {
   "cell_type": "markdown",
   "metadata": {},
   "source": [
    "### Solution\n"
   ]
  },
  {
   "cell_type": "code",
   "execution_count": null,
   "metadata": {},
   "outputs": [
    {
     "name": "stdout",
     "output_type": "stream",
     "text": [
      "X-MAS appears 1900 times.\n"
     ]
    }
   ],
   "source": [
    "# Read the file and split it into lines to form a matrix\n",
    "def read_file_to_matrix(filename):\n",
    "    with open(filename, 'r') as file:\n",
    "        lines = file.readlines()\n",
    "    matrix = [list(line.strip()) for line in lines]\n",
    "    return matrix\n",
    "\n",
    "# Check if the conditions for an X-MAS are met\n",
    "def check_conditions(matrix, i, j):\n",
    "    conditions = [\n",
    "        (matrix[i-1][j-1] == 'M' and matrix[i+1][j+1] == 'S' and matrix[i-1][j+1] == 'M' and matrix[i+1][j-1] == 'S'),\n",
    "        (matrix[i-1][j-1] == 'M' and matrix[i+1][j+1] == 'S' and matrix[i-1][j+1] == 'S' and matrix[i+1][j-1] == 'M'),\n",
    "        (matrix[i-1][j-1] == 'S' and matrix[i+1][j+1] == 'M' and matrix[i-1][j+1] == 'M' and matrix[i+1][j-1] == 'S'),\n",
    "        (matrix[i-1][j-1] == 'S' and matrix[i+1][j+1] == 'M' and matrix[i-1][j+1] == 'S' and matrix[i+1][j-1] == 'M')\n",
    "    ]\n",
    "    return any(conditions)\n",
    "\n",
    "# Count the number of valid X-MAS\n",
    "def count_valid_As(matrix):\n",
    "    count = 0\n",
    "    rows = len(matrix)\n",
    "    cols = len(matrix[0])\n",
    "    for i in range(1, rows-1):\n",
    "        for j in range(1, cols-1):\n",
    "            if matrix[i][j] == 'A' and check_conditions(matrix, i, j):\n",
    "                count += 1\n",
    "    return count\n",
    "\n",
    "# Read the file\n",
    "matrix = read_file_to_matrix('04-input.txt')\n",
    "\n",
    "total_count = count_valid_As(matrix)\n",
    "\n",
    "print(f\"X-MAS appears {total_count} times.\")\n"
   ]
  }
 ],
 "metadata": {
  "kernelspec": {
   "display_name": "Python 3",
   "language": "python",
   "name": "python3"
  },
  "language_info": {
   "codemirror_mode": {
    "name": "ipython",
    "version": 3
   },
   "file_extension": ".py",
   "mimetype": "text/x-python",
   "name": "python",
   "nbconvert_exporter": "python",
   "pygments_lexer": "ipython3",
   "version": "3.13.1"
  }
 },
 "nbformat": 4,
 "nbformat_minor": 2
}
